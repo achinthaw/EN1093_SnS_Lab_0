{
  "nbformat": 4,
  "nbformat_minor": 0,
  "metadata": {
    "kernelspec": {
      "display_name": "Python 3",
      "language": "python",
      "name": "python3"
    },
    "language_info": {
      "codemirror_mode": {
        "name": "ipython",
        "version": 3
      },
      "file_extension": ".py",
      "mimetype": "text/x-python",
      "name": "python",
      "nbconvert_exporter": "python",
      "pygments_lexer": "ipython3",
      "version": "3.6.8-final"
    },
    "colab": {
      "name": "Introduction_to_Numpy_&_Matplotlib.ipynb",
      "provenance": [],
      "collapsed_sections": [],
      "toc_visible": true
    }
  },
  "cells": [
    {
      "cell_type": "markdown",
      "metadata": {
        "id": "p3VU0cW8sn7L"
      },
      "source": [
        "![image](header.png)"
      ]
    },
    {
      "cell_type": "markdown",
      "metadata": {
        "id": "svpHodphrECJ"
      },
      "source": [
        "## **1.0 Numpy**\r\n",
        "\r\n",
        "Numpy or Numerical Python, is the fundamental package for scientific computing in Python which is an open source. It provides a multidimensional array object and supports  fast operations on arrays, including mathematical, logical, shape manipulation, sorting, selecting, I/O, discrete Fourier transforms, basic linear algebra, basic statistical operations, random simulation and much more. At the core of the NumPy package, is the ndarray object, encapsulating n-dimensional arrays of homogeneous data types.\r\n",
        "\r\n",
        "\r\n",
        "\r\n"
      ]
    },
    {
      "source": [
        "## 1.1 Numpy vs Standard Python\n",
        "* NumPy arrays have a fixed size at creation, unlike Python lists (which can grow dynamically).\n",
        "* The elements in a NumPy array are all required to be of the same data type.\n",
        "* NumPy arrays facilitate advanced mathematical and other types of operations on large numbers of data. Typically, such operations are executed more efficiently and with less code than is possible using Python’s built-in sequences.\n",
        "\n",
        "Let's import Numpy"
      ],
      "cell_type": "markdown",
      "metadata": {}
    },
    {
      "cell_type": "code",
      "metadata": {
        "id": "cZM9i4xZrEC4"
      },
      "source": [
        "import numpy as np # import numpy"
      ],
      "execution_count": 1,
      "outputs": []
    },
    {
      "cell_type": "markdown",
      "metadata": {
        "id": "lCC5pnz--V0P"
      },
      "source": [
        "## **1.2 Is Numpy fast, as they say? (A comparison of speed between Numpy and standard Python)**\r\n",
        "\r\n",
        "\r\n"
      ]
    },
    {
      "cell_type": "markdown",
      "metadata": {
        "id": "e564DB5PXJDX"
      },
      "source": [
        "### **1.2.1 Adding a Scalar**\n"
      ]
    },
    {
      "cell_type": "code",
      "metadata": {
        "id": "ymLli8wuAyTg"
      },
      "source": [
        "import time\r\n",
        "\r\n",
        "# Set the array size\r\n",
        "array_size = 10000000\r\n",
        "\r\n",
        "# Initiate an array\r\n",
        "python_array= [i for i in range(array_size)] \r\n",
        "\r\n",
        "python_start = time.clock()\r\n",
        "# Let's add a scalar\r\n",
        "new_python_array = [i + 10 for i in python_array]\r\n",
        "python_end = time.clock()\r\n",
        "\r\n",
        "python_time = python_end - python_start\r\n",
        "\r\n",
        "print(\"Time taken by python: \",python_time)\r\n",
        "\r\n",
        "# Convert the python_array to a numpy array\r\n",
        "np_array = np.array(python_array)\r\n",
        "\r\n",
        "np_start = time.clock()\r\n",
        "# Add a scalar\r\n",
        "np_array += 10\r\n",
        "np_end = time.clock()\r\n",
        "np_time = np_end - np_start\r\n",
        "print(\"Time taken by Numpy: \",np_time)\r\n"
      ],
      "execution_count": null,
      "outputs": []
    },
    {
      "cell_type": "markdown",
      "metadata": {
        "id": "t9SM4Ai5XBwC"
      },
      "source": [
        "### **1.2.2 Dot Product**"
      ]
    },
    {
      "cell_type": "code",
      "metadata": {
        "id": "z7sRDfV-XSvd"
      },
      "source": [
        "# Set the array size\r\n",
        "array_size = 1000000\r\n",
        "\r\n",
        "# initiate arrays\r\n",
        "A = [i for i in range(array_size)]\r\n",
        "B = [i for i in range(array_size)]  \r\n",
        "\r\n",
        "python_start = time.clock()\r\n",
        "# Let's find the dot product between A and B\r\n",
        "dot_product = 0\r\n",
        "for i in range(len(A)):\r\n",
        "    dot_product += A[i]*B[i]\r\n",
        "python_end = time.clock()\r\n",
        "python_time = python_end - python_start\r\n",
        "print(\"Dot product: \", dot_product)\r\n",
        "print(\"Time taken by python: \",python_time)\r\n",
        "\r\n",
        "# Convert the python_array to a numpy array\r\n",
        "nA = np.array(A)\r\n",
        "nB = np.array(B)\r\n",
        "\r\n",
        "np_start = time.clock()\r\n",
        "# Let's find the dot product between A and B\r\n",
        "dot_product = np.dot(nA,nB)\r\n",
        "\r\n",
        "np_end = time.clock()\r\n",
        "np_time = np_end - np_start\r\n",
        "print(\"Time taken by Numpy: \",np_time)\r\n",
        "print(\"Dot product: \", dot_product)"
      ],
      "execution_count": null,
      "outputs": []
    },
    {
      "cell_type": "markdown",
      "metadata": {
        "id": "CR7GKxEHfLi-"
      },
      "source": [
        "## **1.3 Numpy Arrays**\r\n",
        "A numpy array is a grid of values, all of the same type, and is indexed by a tuple of nonnegative integers. The number of dimensions is the rank of the array; the shape of an array is a tuple of integers giving the size of the array along each dimension.\r\n",
        "\r\n",
        "We can create a NumPy ndarray object by using the ***array()*** function.\r\n",
        "\r\n"
      ]
    },
    {
      "cell_type": "markdown",
      "metadata": {
        "id": "bguj0n6BXPuf"
      },
      "source": [
        "### **1.3.1 0-D Arrays (Scalars)**"
      ]
    },
    {
      "cell_type": "code",
      "metadata": {
        "id": "OeM6gDxV5-7y"
      },
      "source": [
        "a = np.array(7) # Scalar\r\n",
        "\r\n",
        "print('a : ',a)\r\n",
        "print('type(a): ',type(a))  # type\r\n",
        "print('a.shape: ',a.shape) # shape\r\n"
      ],
      "execution_count": null,
      "outputs": []
    },
    {
      "cell_type": "markdown",
      "metadata": {
        "id": "IEtV2cu96r3C"
      },
      "source": [
        "### **1.3.2 1-D Arrays (Rank - 1 or Vectors)**"
      ]
    },
    {
      "cell_type": "code",
      "metadata": {
        "id": "NCdCP0AYrEDD"
      },
      "source": [
        "b = np.array([1,2,3,4]) # rank 1 array\n",
        "print('b: ',b)       # array\n",
        "print('type(b): ',type(b))  # type\n",
        "print('b.shape: ',b.shape) # shape\n",
        "print('b[0]: ',b[0]) # 1st element"
      ],
      "execution_count": null,
      "outputs": []
    },
    {
      "cell_type": "markdown",
      "metadata": {
        "id": "8TVP98Od9YaF"
      },
      "source": [
        "### **1.3.3 2-D Arrays (Rank - 2 or Matrices)**"
      ]
    },
    {
      "cell_type": "code",
      "metadata": {
        "id": "TUFdFGLPrEDl"
      },
      "source": [
        "c = np.array([[1,2],[3,4]]) # rank 2 array\n",
        "print('c: ',c)# array\n",
        "print('c.shape: ',c.shape) # shape\n",
        "print('c[0]: ',c[0]) # 1st row\n",
        "print('c[0,0]: ',c[0,0]) # 1st row, 1st column element"
      ],
      "execution_count": null,
      "outputs": []
    },
    {
      "cell_type": "markdown",
      "metadata": {
        "id": "ToXgJhJh-u3B"
      },
      "source": [
        "### **1.3.4 3-D Arrays (Rank - 3 or Tensors)**"
      ]
    },
    {
      "cell_type": "code",
      "metadata": {
        "id": "OwIMfS7O---V"
      },
      "source": [
        "d = np.array([[[1, 2, 3], [4, 5, 6]], [[7, 8, 9], [10, 11, 12]]])\r\n",
        "print('d: ',d)# array\r\n",
        "print('d.shape: ',d.shape) # shape\r\n",
        "print('d[0]: ',d[0]) # 1st channel\r\n",
        "print('d[0,0]: ',d[0,0]) # 1st channel, 1st row\r\n",
        "print('d[0,0,0]: ',d[0,0,0]) # 1st channel, 1st row, 1st column element\r\n"
      ],
      "execution_count": null,
      "outputs": []
    },
    {
      "cell_type": "markdown",
      "metadata": {
        "id": "8Vq_aqExPu7Y"
      },
      "source": [
        "Let's visualize d. Note that, *d.shape* is *(2,2,3)*. The shape follows *(nChannels,nRows,nColumns)*"
      ]
    },
    {
      "cell_type": "markdown",
      "metadata": {
        "id": "OIj5LhZM-umt"
      },
      "source": [
        "![](https://drive.google.com/uc?export=view&id=1qviHokcuH1i6ZUQqcWiSvUtITbsLRp39)"
      ]
    },
    {
      "cell_type": "markdown",
      "metadata": {
        "id": "DwRUhq0iRQOd"
      },
      "source": [
        "Need to check the dimensions of a tensor? Use *ndim*"
      ]
    },
    {
      "cell_type": "code",
      "metadata": {
        "id": "QbYFqCGmSIxY"
      },
      "source": [
        "print(\"dims of a: \",a.ndim)\r\n",
        "print(\"dims of b: \",b.ndim)\r\n",
        "print(\"dims of c: \",c.ndim)\r\n",
        "print(\"dims of d: \",d.ndim)"
      ],
      "execution_count": null,
      "outputs": []
    },
    {
      "cell_type": "markdown",
      "metadata": {
        "id": "gJGAJYD1Q30q"
      },
      "source": [
        "### **1.3.5 Array Slicing**"
      ]
    },
    {
      "cell_type": "code",
      "metadata": {
        "id": "JnZuA21ZrEDr"
      },
      "source": [
        "c = np.array([       # same as c = np.array([[..],[..],[..]])\n",
        "    [1, 2, 3, 4],\n",
        "    [5, 6, 7, 8],\n",
        "    [9, 10, 11, 12]\n",
        "])\n",
        "print('c: ',c)\n",
        "c1 = c[:2, 1:3] # 1st 2 rows, 2nd 2 columns of c\n",
        "print('c1: ',c1)\n",
        "c2 = c[1, 2:] # 2nd row, last 2 columns\n",
        "print('c2: ',c2)"
      ],
      "execution_count": null,
      "outputs": []
    },
    {
      "cell_type": "code",
      "metadata": {
        "scrolled": true,
        "id": "wOE1b2jKrED0"
      },
      "source": [
        "# array indexing ctd..\n",
        "\n",
        "c1[0, 1] = 100 # modify c1 array\n",
        "print('c1: ',c1)\n",
        "print('c: ',c) # c array also modified"
      ],
      "execution_count": null,
      "outputs": []
    },
    {
      "cell_type": "markdown",
      "metadata": {
        "id": "o1EPr12ZS50h"
      },
      "source": [
        "**Note:** Changing elements in array c1 alters the original c array as well."
      ]
    },
    {
      "cell_type": "code",
      "metadata": {
        "id": "aIMHa57irEEE"
      },
      "source": [
        "# boolean array indexing\n",
        "g7 = (c>7) # boolean array\n",
        "print('g7: ',g7)\n",
        "print('c[g7]: ',c[g7]) # elements of c greater than 7"
      ],
      "execution_count": null,
      "outputs": []
    },
    {
      "cell_type": "markdown",
      "metadata": {
        "id": "bk7Wc8fdUHEj"
      },
      "source": [
        "**Note:** This is useful when we need to filter out a set of elements that satisfy a particular condition from an array."
      ]
    },
    {
      "cell_type": "markdown",
      "metadata": {
        "id": "_8otwTI1VhRK"
      },
      "source": [
        "### **1.3.6 Array Reshaping**"
      ]
    },
    {
      "cell_type": "code",
      "metadata": {
        "id": "a9PWx51HrEES"
      },
      "source": [
        "# array reshaping\n",
        "\n",
        "a = np.array([1, 2, 3, 4, 5, 6, 7, 8])\n",
        "print('a: ',a)\n",
        "a81 = a.reshape((8,1))\n",
        "print('a81: ',a81)\n",
        "a18 = a.reshape((1,8))\n",
        "print('a18: ',a18)\n",
        "a24 = a.reshape((2,4))\n",
        "print('a24: ',a24)\n",
        "a42 = a.reshape((4,2))\n",
        "print('a42: ',a42)"
      ],
      "execution_count": null,
      "outputs": []
    },
    {
      "cell_type": "markdown",
      "metadata": {
        "id": "o4RsXPc_v-9o"
      },
      "source": [
        "### **1.3.7 Combining Arrays**"
      ]
    },
    {
      "cell_type": "code",
      "metadata": {
        "id": "sFSuwGj9rEEX"
      },
      "source": [
        "# combining arrays\n",
        "d1 = np.array([\n",
        "    [1, 2, 3, 4],\n",
        "    [5, 6, 7, 8]\n",
        "])\n",
        "print('d1: ',d1) # d1\n",
        "d2 = np.array([\n",
        "    [ 9, 10, 11, 12],\n",
        "    [13, 14, 15, 16]\n",
        "])\n",
        "print('d2: ',d2) # d2\n",
        "\n",
        "# concatenate\n",
        "d_down = np.concatenate((d1, d2)) # concatenate d1, d2 downwards \n",
        "print('d_down: ',d_down) \n",
        "d_side = np.concatenate((d1, d2), axis=1) # concatenate d1, d2 to side\n",
        "print('d_side: ',d_side)\n",
        "\n",
        "#append\n",
        "d_append = np.append(d1, d2) # append d1, d2\n",
        "print('d_append: ',d_append)"
      ],
      "execution_count": null,
      "outputs": []
    },
    {
      "cell_type": "markdown",
      "metadata": {
        "id": "uf0pi7DpwnFo"
      },
      "source": [
        "### **1.3.8 Data Types**"
      ]
    },
    {
      "cell_type": "code",
      "metadata": {
        "id": "oRjKNyx7rEEh"
      },
      "source": [
        "# data types\n",
        "x = np.array([1, 2]) # int64 array\n",
        "print('x: ',x)\n",
        "print('x.dtype: ',x.dtype)         \n",
        "\n",
        "y = np.array([1.0, 2.0]) #float64 array\n",
        "print('y: ',y)\n",
        "print('y.dtype: ',y.dtype) \n",
        "\n",
        "z = np.array([1.3, 2], dtype=np.int64)   # Force a particular datatype\n",
        "print('z: ',z)   "
      ],
      "execution_count": null,
      "outputs": []
    },
    {
      "cell_type": "markdown",
      "metadata": {
        "id": "DBQbQZgIBauA"
      },
      "source": [
        "### **1.3.9 Array Math**"
      ]
    },
    {
      "cell_type": "code",
      "metadata": {
        "id": "Q8sA8gLFrEEn"
      },
      "source": [
        "# array math\n",
        "a = np.array([\n",
        "    [1, 2],\n",
        "    [3, 4]\n",
        "])\n",
        "print('a',a)\n",
        "b = np.array([\n",
        "    [5, 6],\n",
        "    [7, 8]\n",
        "])\n",
        "print('b',b)"
      ],
      "execution_count": null,
      "outputs": []
    },
    {
      "cell_type": "code",
      "metadata": {
        "id": "C0kUqEAorEEr"
      },
      "source": [
        "# array math ctd..\n",
        "\n",
        "print('a+b: ',a+b) # elementwise addition\n",
        "print('b-a: ',b-a) # elementwise substraction\n",
        "print('a*b: ',a*b) # elementwise multiplication (a.*b in MATLAB)\n",
        "print('a/b: ',a/b) # elementwise division (a./b in MATLAB)"
      ],
      "execution_count": null,
      "outputs": []
    },
    {
      "cell_type": "code",
      "metadata": {
        "id": "cHdf_YmerEE4"
      },
      "source": [
        "# matrix operations\n",
        "\n",
        "M = np.array([ # matrix of order 2x3\n",
        "    [1, 2, 3],\n",
        "    [4, 5, 6],\n",
        "])\n",
        "\n",
        "N = np.array([ # matrix of order 3x2\n",
        "    [7,  8],\n",
        "    [9, 10],\n",
        "    [11, 12]\n",
        "])\n",
        "\n",
        "print('M: ',M)\n",
        "print('N: ',N)\n",
        "\n",
        "MN = np.matmul(M, N) # Compute MxN\n",
        "print('MN: ',MN)"
      ],
      "execution_count": null,
      "outputs": []
    },
    {
      "cell_type": "code",
      "metadata": {
        "id": "j_YwJm1wrEE8"
      },
      "source": [
        "# matrix operations ctd..\n",
        "\n",
        "S = np.array([ # square matrix of shape 2x2\n",
        "    [1, 2],\n",
        "    [3, 4]\n",
        "])\n",
        "print('S: ',S)\n",
        "S3 = np.linalg.matrix_power(S, 3) # compute S^3\n",
        "print('S3: ',S3)\n",
        "S_inv = np.linalg.inv(S) # inverse of S (S^-1)\n",
        "print('S_inv: ',S_inv)"
      ],
      "execution_count": null,
      "outputs": []
    },
    {
      "cell_type": "code",
      "metadata": {
        "id": "07MFe2_SrEFJ"
      },
      "source": [
        "np.matmul(S, S_inv)"
      ],
      "execution_count": null,
      "outputs": []
    },
    {
      "cell_type": "code",
      "metadata": {
        "id": "SjrrCT5hrEFO"
      },
      "source": [
        "# matrix operations ctd..\n",
        "\n",
        "u = np.array([1, 2, 3, 4, 5]) # vector of dimension 5\n",
        "v = np.array([6, 7, 8, 9, 10]) # vector of dimension 5\n",
        "\n",
        "print('u: ',u)\n",
        "print('v: ',v)\n",
        "udotv = np.dot(u, v) # Compute u.v\n",
        "print('udotv: ',udotv)"
      ],
      "execution_count": null,
      "outputs": []
    },
    {
      "cell_type": "markdown",
      "metadata": {
        "id": "4788mioKIqVz"
      },
      "source": [
        "### **1.3.10 Broadcasting**\r\n",
        "\r\n",
        "The term broadcasting describes how numpy treats arrays with different shapes during arithmetic operations. Subject to certain constraints, the smaller array is “broadcast” across the larger array so that they have compatible shapes."
      ]
    },
    {
      "cell_type": "code",
      "metadata": {
        "id": "N5fQtaMIrEFV"
      },
      "source": [
        "# broadcasting\n",
        "a = np.array([\n",
        "    [1, 2],\n",
        "    [3, 4]\n",
        "])\n",
        "print('a: ',a)\n",
        "c = np.array([9, 10]) # rank 1 array\n",
        "print('c: ',c)\n",
        "print('a+c: ',a+c) # row-wise addition (broadcasting)\n",
        "k = 5 # integer\n",
        "print('k: ',k)\n",
        "print('a+k: ',a+k) # elementwise-wise addition (broadcasting)"
      ],
      "execution_count": null,
      "outputs": []
    },
    {
      "cell_type": "code",
      "metadata": {
        "id": "bqRtDDqSrEFZ"
      },
      "source": [
        "# special functions\n",
        "\n",
        "print('np.zeros((2, 3)): ',np.zeros((2, 3))) # array of zeros\n",
        "\n",
        "print('np.ones((2, 3)): ',np.ones((2, 3))) # array of ones\n",
        "\n",
        "print('np.arange(3, 8, 0.5): ',np.arange(3, 8, 0.5)) # array of numbers in [3, 8) with step 0.5 (similar to python range, but allow for floats)\n",
        "\n",
        "print('np.random.random((2, 3)): ',np.random.random((2, 3))) # array of random numbers in [0, 1)\n",
        "\n",
        "print('np.random.randint(3, 16, (2, 3))): ',np.random.randint(3, 16, (2, 3))) # array of random int in [3, 16)"
      ],
      "execution_count": null,
      "outputs": []
    },
    {
      "cell_type": "markdown",
      "metadata": {
        "id": "Hl-FqER-eGhB"
      },
      "source": [
        "## **1.4  Why is Numpy Fast?**\r\n",
        "***Vectorization*** describes the absence of any explicit looping, indexing, etc., in the code - these things are taking place, of course, just “behind the scenes” in optimized, pre-compiled C code.\r\n",
        "\r\n",
        "\r\n",
        "*   Vectorized code is more concise and easier to read\r\n",
        "*   vectorization results in more “Pythonic” code. Without vectorization, our code would be littered with inefficient and difficult to read for loops.\r\n",
        "\r\n",
        "**Broadcasting** is the term used to describe the implicit element-by-element behavior of operations; generally speaking, in NumPy all operations, not just arithmetic operations, but logical, bit-wise, functional, etc., behave in this implicit element-by-element fashion, i.e., they broadcast.\r\n",
        "\r\n"
      ]
    },
    {
      "cell_type": "markdown",
      "metadata": {
        "id": "n7L8rxoVrEFg"
      },
      "source": [
        "## **2.0 Matplotlib**\r\n",
        "\r\n",
        "The Matplotlib is an open source Python library that uses to create high-quality graphs, charts, and figures. In this section we are going to explore more about Matplotlib."
      ]
    },
    {
      "cell_type": "code",
      "metadata": {
        "id": "O9sWenvJrEFj"
      },
      "source": [
        "import matplotlib.pyplot as plt # import matplotlib.pyplot"
      ],
      "execution_count": null,
      "outputs": []
    },
    {
      "cell_type": "markdown",
      "metadata": {
        "id": "PT4xtD4Sq0zq"
      },
      "source": [
        "## **2.1 Anatomy of a Figure**\r\n",
        "![](https://drive.google.com/uc?export=view&id=1snbK2txAKCzRFkL8Wvp40NuQbF-cijVy)\r\n"
      ]
    },
    {
      "cell_type": "markdown",
      "metadata": {
        "id": "oiO7LnMFd__e"
      },
      "source": [
        "## **2.2 Simple Plots**"
      ]
    },
    {
      "cell_type": "code",
      "metadata": {
        "id": "4OeyFNXNrEFn"
      },
      "source": [
        "x = np.linspace(0, 2*np.pi, 100) # get x interval for plotting\n",
        "y = np.sin(x) # generate function values y\n",
        "\n",
        "plt.plot(x, y) # plot y = sin(x)\n",
        "plt.xlabel('x') # name x axis\n",
        "plt.ylabel('y') # name y axis\n",
        "plt.grid(True) # add a grid\n",
        "plt.title('$y = \\sin(x)$') # add a title\n",
        "plt.show()"
      ],
      "execution_count": null,
      "outputs": []
    },
    {
      "cell_type": "markdown",
      "metadata": {
        "id": "oKB845z5s00m"
      },
      "source": [
        "**Note:** You can change the size of a plot"
      ]
    },
    {
      "cell_type": "code",
      "metadata": {
        "id": "4_4a9JgztKRF"
      },
      "source": [
        "plt.plot(x, y) \r\n",
        "plt.rcParams['figure.figsize']=[5,5] # Please run this two times to see the effect \r\n",
        "plt.show()"
      ],
      "execution_count": null,
      "outputs": []
    },
    {
      "cell_type": "markdown",
      "metadata": {
        "id": "shFyVIyniVzO"
      },
      "source": [
        "**Note:** You can use different colours, line styles, and line width in plotting a graph."
      ]
    },
    {
      "cell_type": "code",
      "metadata": {
        "id": "pXlG57acjuZg"
      },
      "source": [
        "plt.plot(x, y, color=\"blue\", linewidth=2.5, linestyle='--') \r\n",
        "plt.show()"
      ],
      "execution_count": null,
      "outputs": []
    },
    {
      "cell_type": "markdown",
      "metadata": {
        "id": "1ieMsK9Seq4g"
      },
      "source": [
        "## **2.3 Multiple Curves on same Plot**"
      ]
    },
    {
      "cell_type": "code",
      "metadata": {
        "id": "-bevh9uurEFv"
      },
      "source": [
        "# Multiple curves on same plot\n",
        "\n",
        "x = np.linspace(0, 2*np.pi, 100)\n",
        "y1 = np.sin(x) \n",
        "y2 = np.cos(x)\n",
        "\n",
        "plt.plot(x, y1, 'g', label='sin(x)') # first curve\n",
        "plt.plot(x, y2, 'y', label='cos(x)') # second curve on the same plot\n",
        "plt.xlabel('x')\n",
        "plt.ylabel('y')\n",
        "plt.legend()\n",
        "plt.show()"
      ],
      "execution_count": null,
      "outputs": []
    },
    {
      "cell_type": "markdown",
      "metadata": {
        "id": "kchc3MTgLSPv"
      },
      "source": [
        "## **2.4 Subplots**\r\n",
        "\r\n",
        "The subplot is used to arrange plots in a grid. We need to specify three parameters, namely the number of rows, columns, and the number of the plot.\r\n"
      ]
    },
    {
      "cell_type": "code",
      "metadata": {
        "id": "N-dSTLBnrEF5"
      },
      "source": [
        "# subplots\n",
        "\n",
        "fig, axes = plt.subplots(2, 1, sharex=True) # create subplots with shared x axis\n",
        "\n",
        "axes[0].plot(x, y1) # plot y1 in subplot 1\n",
        "axes[0].set_ylabel('y1')\n",
        "\n",
        "axes[1].plot(x, y2) # plot y2 in subplot 2\n",
        "axes[1].set_ylabel('y2')\n",
        "axes[1].set_xlabel('x')\n",
        "plt.show()"
      ],
      "execution_count": null,
      "outputs": []
    },
    {
      "cell_type": "code",
      "metadata": {
        "id": "Ji9WoXhKvpqr"
      },
      "source": [
        "fig, axes = plt.subplots(1, 2, sharex=True, figsize=(10, 5)) # create subplots with shared x axis\r\n",
        "\r\n",
        "axes[0].plot(x, y1) # plot y1 in subplot 1\r\n",
        "axes[0].set_ylabel('y1')\r\n",
        "\r\n",
        "axes[1].plot(x, y2) # plot y2 in subplot 2\r\n",
        "axes[1].set_ylabel('y2')\r\n",
        "axes[1].set_xlabel('x')\r\n",
        "plt.show()"
      ],
      "execution_count": null,
      "outputs": []
    },
    {
      "cell_type": "code",
      "metadata": {
        "id": "HD4Cbu_irEF-"
      },
      "source": [
        "# grid, figsize\n",
        "\n",
        "fig, axes = plt.subplots(5, 1, sharex=True, figsize=(10, 10)) # create subplots with shared x axis\n",
        "\n",
        "t = np.linspace(0, 2*np.pi, 100) # time interval for plotting\n",
        "for i in range(5):\n",
        "    y_i = np.sin(t+i*np.pi/2)\n",
        "    axes[i].plot(t, y_i) # plot y_i\n",
        "    axes[i].set_ylabel('y_{}'.format(i)) # set y axis label\n",
        "    axes[i].grid(True) # display grid\n",
        "axes[-1].set_xlabel('t') # set x axis label\n",
        "plt.show()"
      ],
      "execution_count": null,
      "outputs": []
    },
    {
      "cell_type": "code",
      "metadata": {
        "id": "_4Lat-DgrEGK"
      },
      "source": [
        "# complex plane\n",
        "\n",
        "z1 = -1+2j\n",
        "z2 = 3-4j\n",
        "z3 = 5+6j\n",
        "\n",
        "fig, ax = plt.subplots(1, 1, figsize=(10, 10))\n",
        "\n",
        "ax.plot(z1.real, z1.imag, 'r+', label='z1') # plot z1\n",
        "ax.plot(z2.real, z2.imag, 'bx', label='z2') # plot z2\n",
        "ax.plot(z3.real, z3.imag, 'yo', label='z3') # plot z3\n",
        "\n",
        "ax.text(z1.real+.1, z1.imag+.1, 'z1', fontsize=15) # label z1 point on plot\n",
        "ax.text(z2.real+.1, z2.imag+.1, 'z2', fontsize=15) # label z2 point on plot\n",
        "ax.text(z3.real+.1, z3.imag+.1, 'z3', fontsize=15) # label z3 point on plot\n",
        "\n",
        "ax.legend()\n",
        "ax.set_xlabel('Real')          # label real axis\n",
        "ax.set_ylabel('Imaginary')     # label imaginary axis\n",
        "ax.grid(True) # display grid\n",
        "\n",
        "plt.show()"
      ],
      "execution_count": null,
      "outputs": []
    },
    {
      "cell_type": "markdown",
      "metadata": {
        "id": "kh0SxZkLrEGf"
      },
      "source": [
        "## Exercise"
      ]
    },
    {
      "cell_type": "markdown",
      "metadata": {
        "id": "MurllogXrEGu"
      },
      "source": [
        "**1) Consider the following function.**\n",
        "$$ S_N(x) = \\sum_{n=1}^{N}\\frac{1}{n \\pi}\\sin(nx) $$\n",
        "\n",
        "a) Plot $S_N$ for $N=\\{1, 5, 10, 100\\}$ in $x \\in [-10, 10]$ on seperate $2 \\times 2$ subplots.\n",
        "\n",
        "b) In a new figure, plot $S_N$ for $N= \\{1, 5, 10, 100\\}$ in $x \\in [-10, 10]$ on the same plot. Label each curve using the corresponding $N$ value.\n",
        "\n",
        "c) Label $y$, $x$ axes as '$S_N(x)$', '$x$' respectively.\n",
        "\n",
        "d) Add grids in both figures.\n",
        "\n",
        "e) Plot the $x$ axis in the second figure."
      ]
    },
    {
      "cell_type": "markdown",
      "metadata": {
        "id": "nKJkIoGPrEGx"
      },
      "source": [
        "**2) Solve the following system of linear equations.**\n",
        "\n",
        "$$\\begin{align}\n",
        "x  + 2y +  z & = 3 \\\\\n",
        "x  + 3y + 4z & = 5 \\\\\n",
        "3x + 4y + 8z & = 6\n",
        "\\end{align}\n",
        "$$"
      ]
    },
    {
      "cell_type": "markdown",
      "metadata": {
        "id": "MKGnBOwcUDnC"
      },
      "source": [
        "## **3.0 References**\r\n",
        "\r\n",
        "\r\n",
        "[1].   https://numpy.org/\r\n",
        "\r\n",
        "[2]. https://numpy.org/doc/stable/reference/generated/numpy.array.html\r\n",
        "\r\n",
        "[3]. https://numpy.org/devdocs/user/whatisnumpy.html\r\n",
        "\r\n",
        "[4]. https://github.com/rougier/matplotlib-tutorial\r\n",
        "\r\n"
      ]
    }
  ]
}